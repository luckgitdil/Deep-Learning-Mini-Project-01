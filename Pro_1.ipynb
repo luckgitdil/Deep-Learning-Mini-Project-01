{
  "nbformat": 4,
  "nbformat_minor": 0,
  "metadata": {
    "colab": {
      "provenance": [],
      "authorship_tag": "ABX9TyNPGYCLLZuBEhrIPkK9bM2M"
    },
    "kernelspec": {
      "name": "python3",
      "display_name": "Python 3"
    },
    "language_info": {
      "name": "python"
    }
  },
  "cells": [
    {
      "cell_type": "code",
      "execution_count": 702,
      "metadata": {
        "id": "At8XQw93Tlfe"
      },
      "outputs": [],
      "source": [
        "import numpy as np\n",
        "import random\n",
        "import os\n",
        "import matplotlib.pyplot as plt\n",
        "from tensorflow.keras.models import Sequential\n",
        "from tensorflow.keras.layers import Conv2D, MaxPooling2D, Dense, Flatten"
      ]
    },
    {
      "cell_type": "code",
      "source": [
        "from google.colab import drive\n",
        "drive.mount('/content/drive')"
      ],
      "metadata": {
        "colab": {
          "base_uri": "https://localhost:8080/"
        },
        "id": "gbTQyJ29Tnr9",
        "outputId": "348fbbf3-e664-4dd9-e69a-8fa94ed76a92"
      },
      "execution_count": 703,
      "outputs": [
        {
          "output_type": "stream",
          "name": "stdout",
          "text": [
            "Drive already mounted at /content/drive; to attempt to forcibly remount, call drive.mount(\"/content/drive\", force_remount=True).\n"
          ]
        }
      ]
    },
    {
      "cell_type": "code",
      "source": [
        "os.chdir(\"/content/drive/My Drive/cnn/sin_char/\")\n",
        "os.getcwd()"
      ],
      "metadata": {
        "colab": {
          "base_uri": "https://localhost:8080/",
          "height": 35
        },
        "id": "h5rVv1kCTxER",
        "outputId": "cba85678-4c8a-468b-f4bb-5f730a5d0fad"
      },
      "execution_count": 704,
      "outputs": [
        {
          "output_type": "execute_result",
          "data": {
            "text/plain": [
              "'/content/drive/My Drive/cnn/sin_char'"
            ],
            "application/vnd.google.colaboratory.intrinsic+json": {
              "type": "string"
            }
          },
          "metadata": {},
          "execution_count": 704
        }
      ]
    },
    {
      "cell_type": "code",
      "source": [
        "X_train = np.loadtxt('train_img.csv', delimiter = ',',skiprows=1)\n",
        "Y_train = np.loadtxt('train_lab.csv', delimiter = ',',skiprows=1)\n",
        "X_test = np.loadtxt('test_img.csv', delimiter = ',',skiprows=1)\n",
        "Y_test = np.loadtxt('test_lab.csv', delimiter = ',',skiprows=1)"
      ],
      "metadata": {
        "id": "k-Q3b5AYT0n3"
      },
      "execution_count": 705,
      "outputs": []
    },
    {
      "cell_type": "code",
      "source": [
        "print(\"Shape of X_train: \", X_train.shape)\n",
        "print(\"Shape of Y_train: \", Y_train.shape)\n",
        "print(\"Shape of X_test: \", X_test.shape)\n",
        "print(\"Shape of Y_test: \", Y_test.shape)"
      ],
      "metadata": {
        "colab": {
          "base_uri": "https://localhost:8080/"
        },
        "id": "mJLTtSTeT2UD",
        "outputId": "c653f5e2-c49a-40ba-d8c0-705ae4b283f7"
      },
      "execution_count": 706,
      "outputs": [
        {
          "output_type": "stream",
          "name": "stdout",
          "text": [
            "Shape of X_train:  (80, 10000)\n",
            "Shape of Y_train:  (80,)\n",
            "Shape of X_test:  (20, 10000)\n",
            "Shape of Y_test:  (20,)\n"
          ]
        }
      ]
    },
    {
      "cell_type": "code",
      "source": [
        "X_train = X_train.reshape(80, 100, 100, 1)\n",
        "\n",
        "# Reshape Y_train to (80, 1)\n",
        "Y_train = Y_train.reshape(80, 1)\n",
        "\n",
        "# Reshape X_test to (20, 100, 100, 1)\n",
        "X_test = X_test.reshape(20, 100, 100, 1)\n",
        "\n",
        "# Reshape Y_test to (20, 1)\n",
        "Y_test = Y_test.reshape(20, 1)"
      ],
      "metadata": {
        "id": "FllbazqsT-xr"
      },
      "execution_count": 707,
      "outputs": []
    },
    {
      "cell_type": "code",
      "source": [
        "X_train[1:]"
      ],
      "metadata": {
        "id": "ccA0DEWGUCgD"
      },
      "execution_count": null,
      "outputs": []
    },
    {
      "cell_type": "code",
      "source": [
        " X_train = X_train/255.0\n",
        " X_test = X_test/255.0"
      ],
      "metadata": {
        "id": "FhdUDmd0UEtV"
      },
      "execution_count": 709,
      "outputs": []
    },
    {
      "cell_type": "code",
      "source": [
        "print(\"Shape of X_train: \", X_train.shape)\n",
        "print(\"Shape of Y_train: \", Y_train.shape)\n",
        "print(\"Shape of X_test: \", X_test.shape)\n",
        "print(\"Shape of Y_test: \", Y_test.shape)"
      ],
      "metadata": {
        "colab": {
          "base_uri": "https://localhost:8080/"
        },
        "id": "qGD0yK9aUJ3W",
        "outputId": "43e76a8d-49bc-4b4a-e34d-f28a5ed0effa"
      },
      "execution_count": 710,
      "outputs": [
        {
          "output_type": "stream",
          "name": "stdout",
          "text": [
            "Shape of X_train:  (80, 100, 100, 1)\n",
            "Shape of Y_train:  (80, 1)\n",
            "Shape of X_test:  (20, 100, 100, 1)\n",
            "Shape of Y_test:  (20, 1)\n"
          ]
        }
      ]
    },
    {
      "cell_type": "code",
      "source": [
        "X_train[1]"
      ],
      "metadata": {
        "id": "jlpKdBEaUOJy"
      },
      "execution_count": null,
      "outputs": []
    },
    {
      "cell_type": "code",
      "source": [
        "idx = random.randint(0, len(Y_train)-1)\n",
        "plt.imshow(X_train[idx, :])\n",
        "print(Y_train[idx])\n",
        "plt.show()"
      ],
      "metadata": {
        "colab": {
          "base_uri": "https://localhost:8080/",
          "height": 450
        },
        "id": "YsonGYagURFG",
        "outputId": "edb2a9ca-a1da-4675-d050-2ecefa6d29d6"
      },
      "execution_count": 712,
      "outputs": [
        {
          "output_type": "stream",
          "name": "stdout",
          "text": [
            "[1.]\n"
          ]
        },
        {
          "output_type": "display_data",
          "data": {
            "text/plain": [
              "<Figure size 640x480 with 1 Axes>"
            ],
            "image/png": "[encoded data removed]"
          },
          "metadata": {}
        }
      ]
    },
    {
      "cell_type": "code",
      "source": [
        "model = Sequential([\n",
        "    Conv2D(32, (3,3), activation = 'relu', input_shape = (100, 100, 1)),\n",
        "    MaxPooling2D((2,2)),\n",
        "    Conv2D(32, (3,3), activation = 'relu'),\n",
        "    MaxPooling2D((2,2)),\n",
        "    Flatten(),\n",
        "    Dense(64, activation = 'relu'),\n",
        "    Dense(1, activation = 'sigmoid')])\n",
        "\n",
        "model.compile(loss = 'binary_crossentropy', optimizer = 'adam' , metrics =['accuracy'])\n",
        "\n",
        "model.fit(X_train, Y_train, epochs = 6, batch_size = 4)\n",
        "model.evaluate(X_test, Y_test)"
      ],
      "metadata": {
        "id": "iobwqcWabTqR",
        "colab": {
          "base_uri": "https://localhost:8080/"
        },
        "outputId": "20cb16b4-1cb6-4580-ce04-8037436959b4"
      },
      "execution_count": 1291,
      "outputs": [
        {
          "output_type": "stream",
          "name": "stdout",
          "text": [
            "Epoch 1/6\n",
            "20/20 [==============================] - 2s 61ms/step - loss: 0.7951 - accuracy: 0.4625\n",
            "Epoch 2/6\n",
            "20/20 [==============================] - 1s 71ms/step - loss: 0.6881 - accuracy: 0.6250\n",
            "Epoch 3/6\n",
            "20/20 [==============================] - 1s 70ms/step - loss: 0.6565 - accuracy: 0.6625\n",
            "Epoch 4/6\n",
            "20/20 [==============================] - 1s 51ms/step - loss: 0.5168 - accuracy: 0.7250\n",
            "Epoch 5/6\n",
            "20/20 [==============================] - 1s 43ms/step - loss: 0.2550 - accuracy: 0.9375\n",
            "Epoch 6/6\n",
            "20/20 [==============================] - 1s 42ms/step - loss: 0.1344 - accuracy: 0.9500\n",
            "1/1 [==============================] - 0s 190ms/step - loss: 0.8873 - accuracy: 0.6500\n"
          ]
        },
        {
          "output_type": "execute_result",
          "data": {
            "text/plain": [
              "[0.8872682452201843, 0.6499999761581421]"
            ]
          },
          "metadata": {},
          "execution_count": 1291
        }
      ]
    },
    {
      "cell_type": "markdown",
      "source": [
        "# **The accuracy of this model is : 0.6499999761581421**\n",
        "\\"
      ],
      "metadata": {
        "id": "00rXLuzJpAap"
      }
    },
    {
      "cell_type": "code",
      "source": [
        "idx2 = random.randint(0, len(Y_test)-1)\n",
        "plt.imshow(X_test[idx2, :])\n",
        "plt.show()\n",
        "\n",
        "y_pred = model.predict(X_test[idx2, :].reshape(1, 100, 100, 1))\n",
        "\n",
        "if(y_pred < 0.5):\n",
        "    pred = 'mba'\n",
        "else:\n",
        "     pred = 'ma'\n",
        "print(\"Our model says it is a :\", pred)"
      ],
      "metadata": {
        "colab": {
          "base_uri": "https://localhost:8080/",
          "height": 485
        },
        "id": "DeN29NHcU9I9",
        "outputId": "721516d7-d650-4537-8cfb-b69fcfb8228c"
      },
      "execution_count": 1300,
      "outputs": [
        {
          "output_type": "display_data",
          "data": {
            "text/plain": [
              "<Figure size 640x480 with 1 Axes>"
            ],
            "image/png": "[encoded data removed]"
          },
          "metadata": {}
        },
        {
          "output_type": "stream",
          "name": "stdout",
          "text": [
            "1/1 [==============================] - 0s 25ms/step\n",
            "[[0.76755184]]\n",
            "Our model says it is a : ma\n"
          ]
        }
      ]
    }
  ]
}